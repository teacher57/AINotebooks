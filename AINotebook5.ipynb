{
 "cells": [
  {
   "cell_type": "code",
   "execution_count": 1,
   "id": "5f7a585d",
   "metadata": {},
   "outputs": [
    {
     "name": "stdout",
     "output_type": "stream",
     "text": [
      "grad, iters = 5\n",
      "sin(30) = 0.4999999999999643,  asin(0.5) = 29.999221911379855\n",
      "cos(60) = 0.4999999963909432,  acos(0.5) = 60.000778088620145\n",
      "tan(15) = 0.26794919243112264, atan(tan(15)) = 15.000002510315763\n",
      "\n",
      "rad, iters = 20\n",
      "sin(pi/6)  = 0.49999999999999994, asin(0.5) = 0.5235987755982972\n",
      "cos(pi/3)  = 0.5000000000000001,  acos(0.5) = 1.0471975511965994\n",
      "tan(pi/12) = 0.2679491924311226,  atan(tan(pi/12)) = 0.26179938779914946\n",
      "\n",
      "180 grad = 3.141592653589793 rad\n",
      "pi/4 rad = 45.0 grad\n"
     ]
    }
   ],
   "source": [
    "# 1 (без номера)\n",
    "\n",
    "class Math:\n",
    "    \n",
    "    pi = 3.141592653589793\n",
    "    \n",
    "    def __init__(self, mode = \"rad\", iters = 10):\n",
    "        self.iters = iters\n",
    "        self.mode = False\n",
    "        if mode == \"grad\":\n",
    "            self.mode = True\n",
    "    \n",
    "    def grad_to_rad(self, x):\n",
    "        while x >= 360:\n",
    "            x -= 360\n",
    "        while x < 0:\n",
    "            x += 360\n",
    "        return x * self.pi / 180\n",
    "    \n",
    "    def rad_to_grad(self, x):\n",
    "        while x > self.pi:\n",
    "            x -= self.pi * 2\n",
    "        while x <= -self.pi:\n",
    "            x += self.pi * 2\n",
    "        return x * 180 / self.pi\n",
    "    \n",
    "    @staticmethod\n",
    "    def factorial(n):\n",
    "        if n == 0:\n",
    "            return 1\n",
    "        out = 1.0\n",
    "        for i in range(2, n + 1):\n",
    "            out *= i\n",
    "        return out\n",
    "    \n",
    "    def sin(self, x):\n",
    "        if self.mode:\n",
    "            x = self.grad_to_rad(x)\n",
    "            \n",
    "        out = x\n",
    "        den = 1.0\n",
    "        for i in range(1, self.iters + 1):\n",
    "            den *= (i * 2) * (i * 2 + 1)\n",
    "            if i % 2 == 0:\n",
    "                out += x ** (i * 2 + 1) / den\n",
    "            else:\n",
    "                out -= x ** (i * 2 + 1) / den\n",
    "        return out\n",
    "    \n",
    "    def cos(self, x):\n",
    "        if self.mode:\n",
    "            x = self.grad_to_rad(x)\n",
    "        out = 1\n",
    "        den = 2.0\n",
    "        for i in range(1, self.iters + 1):\n",
    "            if i % 2 == 0:\n",
    "                out += x ** (i * 2) / den\n",
    "            else:\n",
    "                out -= x ** (i * 2) / den\n",
    "            den *= (i * 2 + 1) * (i * 2 + 2)\n",
    "        return out\n",
    "    \n",
    "    def tan(self, x):\n",
    "        return self.sin(x) / self.cos(x)\n",
    "    \n",
    "    def asin(self, x):\n",
    "        if x >= 1 or x <= -1:\n",
    "            print(\"ERROR\")\n",
    "            return\n",
    "        \n",
    "        out = 0\n",
    "        for i in range(self.iters):\n",
    "            cur = self.factorial(i * 2)\n",
    "            cur /= 4 ** i\n",
    "            cur /= self.factorial(i) ** 2\n",
    "            cur /= i * 2 + 1\n",
    "            cur *= x ** (2 * i + 1)\n",
    "            out += cur\n",
    "        \n",
    "        if self.mode:\n",
    "            return self.rad_to_grad(out)\n",
    "        return out\n",
    "    \n",
    "    def acos(self, x):\n",
    "        if self.mode:\n",
    "            return self.rad_to_grad(self.pi / 2) - self.asin(x)\n",
    "        return self.pi / 2 - self.asin(x)\n",
    "    \n",
    "    def atan(self, x):\n",
    "        if x >= 1 or x <= -1:\n",
    "            print(\"ERROR\")\n",
    "            return\n",
    "        \n",
    "        out = 0\n",
    "        for i in range(self.iters):\n",
    "            cur = ((i % 2 == 0) - 0.5) * 2\n",
    "            cur /= 2 * i + 1\n",
    "            cur *= x ** (2 * i + 1)\n",
    "            out += cur\n",
    "        \n",
    "        if self.mode:\n",
    "            return self.rad_to_grad(out)\n",
    "        return out\n",
    "        \n",
    "\n",
    "grad = Math(\"grad\", iters = 5)\n",
    "print(\"grad, iters = 5\")\n",
    "print(\"sin(30) = \", grad.sin(30), \",  asin(0.5) = \", grad.asin(0.5), sep='')\n",
    "print(\"cos(60) = \", grad.cos(60), \",  acos(0.5) = \", grad.acos(0.5), sep='')\n",
    "print(\"tan(15) = \", grad.tan(15), \", atan(tan(15)) = \", grad.atan(grad.tan(15)), '\\n', sep='')\n",
    "\n",
    "rad = Math(\"rad\", iters = 20)\n",
    "print(\"rad, iters = 20\")\n",
    "print(\"sin(pi/6)  = \", rad.sin(rad.pi / 6), \", asin(0.5) = \", rad.asin(0.5), sep='')\n",
    "print(\"cos(pi/3)  = \", rad.cos(rad.pi / 3), \",  acos(0.5) = \", rad.acos(0.5), sep='')\n",
    "print(\"tan(pi/12) = \", rad.tan(rad.pi / 12), \",  atan(tan(pi/12)) = \", rad.atan(rad.tan(rad.pi / 12)), '\\n', sep='')\n",
    "\n",
    "print(\"180 grad = \", rad.grad_to_rad(180), \" rad\", sep='')\n",
    "print(\"pi/4 rad = \", rad.rad_to_grad(rad.pi / 4), \" grad\", sep='')\n"
   ]
  },
  {
   "cell_type": "code",
   "execution_count": 2,
   "id": "964c03df",
   "metadata": {},
   "outputs": [
    {
     "name": "stdout",
     "output_type": "stream",
     "text": [
      "[[[2], 3, [4]], 5, [6, [7]]]\n"
     ]
    }
   ],
   "source": [
    "# 2 (без номера)\n",
    "\n",
    "class Tree1:\n",
    "    \n",
    "    def __init__(self, val, left=None, right=None):\n",
    "        self.val = val\n",
    "        self.left = left\n",
    "        self.right = right\n",
    "    \n",
    "    def set_right(self, right):\n",
    "        self.right = right\n",
    "    \n",
    "    def set_left(self, left):\n",
    "        self.left = left\n",
    "    \n",
    "    def get_list(self, l = []):\n",
    "        if self.left:\n",
    "            l.append([])\n",
    "            self.left.get_list(l[-1])\n",
    "        l.append(self.val)\n",
    "        if self.right:\n",
    "            l.append([])\n",
    "            self.right.get_list(l[-1])\n",
    "        return l\n",
    "\n",
    "tree = Tree1(5)\n",
    "tree.left = Tree1(3)\n",
    "tree.right = Tree1(6)\n",
    "tree.right.right = Tree1(7)\n",
    "tree.left.left = Tree1(2)\n",
    "tree.left.right = Tree1(4)\n",
    "print(tree.get_list())        \n",
    "    \n",
    "    "
   ]
  },
  {
   "cell_type": "code",
   "execution_count": 3,
   "id": "1ed9a679",
   "metadata": {},
   "outputs": [
    {
     "name": "stdout",
     "output_type": "stream",
     "text": [
      "ERROR: value 7 already exists\n",
      "[[[1], 2, [3, [[4], 5]]], 6, [[7], 8]]\n"
     ]
    }
   ],
   "source": [
    "# 3 (без номера)\n",
    "\n",
    "class Tree2:\n",
    "    \n",
    "    def __init__(self, val, left=None, right=None):\n",
    "        self.val = val\n",
    "        self.left = left\n",
    "        self.right = right\n",
    "    \n",
    "    def add(self, val):\n",
    "        if val < self.val:\n",
    "            if self.left:\n",
    "                self.left.add(val)\n",
    "            else:\n",
    "                self.left = Tree2(val)\n",
    "        elif val > self.val:\n",
    "            if self.right:\n",
    "                self.right.add(val)\n",
    "            else:\n",
    "                self.right = Tree2(val)\n",
    "        else:\n",
    "            print(\"ERROR: value \", val, \" already exists\", sep='')\n",
    "    \n",
    "    def get_list(self, l = []):\n",
    "        if self.left:\n",
    "            l.append([])\n",
    "            self.left.get_list(l[-1])\n",
    "        l.append(self.val)\n",
    "        if self.right:\n",
    "            l.append([])\n",
    "            self.right.get_list(l[-1])\n",
    "        return l\n",
    "\n",
    "tree = Tree2(6)\n",
    "tree.add(8)\n",
    "tree.add(7)\n",
    "tree.add(2)\n",
    "tree.add(1)\n",
    "tree.add(3)\n",
    "tree.add(7)\n",
    "tree.add(5)\n",
    "tree.add(4)\n",
    "print(tree.get_list())\n"
   ]
  },
  {
   "cell_type": "code",
   "execution_count": 10,
   "id": "078b011f",
   "metadata": {},
   "outputs": [
    {
     "data": {
      "text/plain": [
       "([[-1, -1], [-2, -1], [3, 2], [2, 1], [-3, -2]],\n",
       " [[1, 1]],\n",
       " [0, 0, 1, 1, 0],\n",
       " [1])"
      ]
     },
     "execution_count": 10,
     "metadata": {},
     "output_type": "execute_result"
    }
   ],
   "source": [
    "# 4 (без номера)\n",
    "\n",
    "from sklearn.model_selection import train_test_split\n",
    "\n",
    "x = [[-1, -1], [-2, -1], [-3, -2], [1, 1], [2, 1], [3, 2]]\n",
    "y = [0, 0, 0, 1, 1, 1]\n",
    "\n",
    "x_train, x_test, y_train, y_test = train_test_split(x, y, test_size = 0.1)\n",
    "\n",
    "x_train, x_test, y_train, y_test"
   ]
  },
  {
   "cell_type": "code",
   "execution_count": 11,
   "id": "e0b0007c",
   "metadata": {},
   "outputs": [
    {
     "data": {
      "text/plain": [
       "[Text(0.5, 0.75, 'X[0] <= 0.5\\ngini = 0.48\\nsamples = 5\\nvalue = [3, 2]'),\n",
       " Text(0.25, 0.25, 'gini = 0.0\\nsamples = 3\\nvalue = [3, 0]'),\n",
       " Text(0.75, 0.25, 'gini = 0.0\\nsamples = 2\\nvalue = [0, 2]')]"
      ]
     },
     "execution_count": 11,
     "metadata": {},
     "output_type": "execute_result"
    },
    {
     "data": {
      "image/png": "[encoded data removed]",
      "text/plain": [
       "<Figure size 640x480 with 1 Axes>"
      ]
     },
     "metadata": {},
     "output_type": "display_data"
    }
   ],
   "source": [
    "from sklearn.tree import plot_tree, DecisionTreeClassifier\n",
    "classifier = DecisionTreeClassifier()\n",
    "classifier.fit(x_train, y_train)\n",
    "plot_tree(classifier)\n"
   ]
  },
  {
   "cell_type": "code",
   "execution_count": 12,
   "id": "e2a6734c",
   "metadata": {},
   "outputs": [
    {
     "name": "stdout",
     "output_type": "stream",
     "text": [
      "y_pred = [1]\n",
      "y_test = [1]\n"
     ]
    }
   ],
   "source": [
    "y_pred = classifier.predict(x_test)\n",
    "print(\"y_pred =\", y_pred)\n",
    "print(\"y_test =\", y_test)"
   ]
  },
  {
   "cell_type": "code",
   "execution_count": 44,
   "id": "07dd47e7",
   "metadata": {},
   "outputs": [
    {
     "data": {
      "text/plain": [
       "(array([[ 7.4  ,  0.7  ,  0.   , ...,  3.51 ,  0.56 ,  9.4  ],\n",
       "        [ 7.8  ,  0.88 ,  0.   , ...,  3.2  ,  0.68 ,  9.8  ],\n",
       "        [ 7.8  ,  0.76 ,  0.04 , ...,  3.26 ,  0.65 ,  9.8  ],\n",
       "        ...,\n",
       "        [ 6.3  ,  0.51 ,  0.13 , ...,  3.42 ,  0.75 , 11.   ],\n",
       "        [ 5.9  ,  0.645,  0.12 , ...,  3.57 ,  0.71 , 10.2  ],\n",
       "        [ 6.   ,  0.31 ,  0.47 , ...,  3.39 ,  0.66 , 11.   ]]),\n",
       " array([5, 5, 5, ..., 6, 5, 6]))"
      ]
     },
     "execution_count": 44,
     "metadata": {},
     "output_type": "execute_result"
    }
   ],
   "source": [
    "# 5 (без номера)\n",
    "\n",
    "from pandas import read_csv\n",
    "url = \"https://raw.githubusercontent.com/aniruddhachoudhury/Red-Wine-Quality/master/winequality-red.csv\"\n",
    "df = read_csv(url)\n",
    "x = df.iloc[:, :-1].values\n",
    "y = df.iloc[:, -1].values\n",
    "x, y"
   ]
  },
  {
   "cell_type": "code",
   "execution_count": 45,
   "id": "79a677c3",
   "metadata": {},
   "outputs": [
    {
     "data": {
      "text/plain": [
       "((1519, 11), (80, 11), (1519,), (80,))"
      ]
     },
     "execution_count": 45,
     "metadata": {},
     "output_type": "execute_result"
    }
   ],
   "source": [
    "x_train, x_test, y_train, y_test = train_test_split(x, y, test_size = 0.05)\n",
    "x_train.shape, x_test.shape, y_train.shape, y_test.shape"
   ]
  },
  {
   "cell_type": "code",
   "execution_count": 46,
   "id": "c7d3091c",
   "metadata": {},
   "outputs": [
    {
     "data": {
      "text/html": [
       "<div>\n",
       "<style scoped>\n",
       "    .dataframe tbody tr th:only-of-type {\n",
       "        vertical-align: middle;\n",
       "    }\n",
       "\n",
       "    .dataframe tbody tr th {\n",
       "        vertical-align: top;\n",
       "    }\n",
       "\n",
       "    .dataframe thead th {\n",
       "        text-align: right;\n",
       "    }\n",
       "</style>\n",
       "<table border=\"1\" class=\"dataframe\">\n",
       "  <thead>\n",
       "    <tr style=\"text-align: right;\">\n",
       "      <th></th>\n",
       "      <th>Actual</th>\n",
       "      <th>Predicted</th>\n",
       "    </tr>\n",
       "  </thead>\n",
       "  <tbody>\n",
       "    <tr>\n",
       "      <th>0</th>\n",
       "      <td>6</td>\n",
       "      <td>7.0</td>\n",
       "    </tr>\n",
       "    <tr>\n",
       "      <th>1</th>\n",
       "      <td>5</td>\n",
       "      <td>5.0</td>\n",
       "    </tr>\n",
       "    <tr>\n",
       "      <th>2</th>\n",
       "      <td>5</td>\n",
       "      <td>6.0</td>\n",
       "    </tr>\n",
       "    <tr>\n",
       "      <th>3</th>\n",
       "      <td>5</td>\n",
       "      <td>6.0</td>\n",
       "    </tr>\n",
       "    <tr>\n",
       "      <th>4</th>\n",
       "      <td>5</td>\n",
       "      <td>5.0</td>\n",
       "    </tr>\n",
       "    <tr>\n",
       "      <th>...</th>\n",
       "      <td>...</td>\n",
       "      <td>...</td>\n",
       "    </tr>\n",
       "    <tr>\n",
       "      <th>75</th>\n",
       "      <td>5</td>\n",
       "      <td>5.0</td>\n",
       "    </tr>\n",
       "    <tr>\n",
       "      <th>76</th>\n",
       "      <td>5</td>\n",
       "      <td>7.0</td>\n",
       "    </tr>\n",
       "    <tr>\n",
       "      <th>77</th>\n",
       "      <td>6</td>\n",
       "      <td>6.0</td>\n",
       "    </tr>\n",
       "    <tr>\n",
       "      <th>78</th>\n",
       "      <td>6</td>\n",
       "      <td>6.0</td>\n",
       "    </tr>\n",
       "    <tr>\n",
       "      <th>79</th>\n",
       "      <td>6</td>\n",
       "      <td>5.0</td>\n",
       "    </tr>\n",
       "  </tbody>\n",
       "</table>\n",
       "<p>80 rows × 2 columns</p>\n",
       "</div>"
      ],
      "text/plain": [
       "    Actual  Predicted\n",
       "0        6        7.0\n",
       "1        5        5.0\n",
       "2        5        6.0\n",
       "3        5        6.0\n",
       "4        5        5.0\n",
       "..     ...        ...\n",
       "75       5        5.0\n",
       "76       5        7.0\n",
       "77       6        6.0\n",
       "78       6        6.0\n",
       "79       6        5.0\n",
       "\n",
       "[80 rows x 2 columns]"
      ]
     },
     "execution_count": 46,
     "metadata": {},
     "output_type": "execute_result"
    }
   ],
   "source": [
    "from sklearn.tree import DecisionTreeRegressor\n",
    "from pandas import DataFrame\n",
    "regressor = DecisionTreeRegressor()\n",
    "regressor.fit(x_train, y_train)\n",
    "y_pred = regressor.predict(x_test)\n",
    "df = DataFrame({\"Actual\" : y_test, \"Predicted\" : y_pred})\n",
    "df"
   ]
  },
  {
   "cell_type": "code",
   "execution_count": 47,
   "id": "66f5e7fd",
   "metadata": {},
   "outputs": [
    {
     "name": "stdout",
     "output_type": "stream",
     "text": [
      "MSE: 0.8125\n",
      "MAE: 0.5125\n"
     ]
    }
   ],
   "source": [
    "from sklearn.metrics import mean_squared_error, mean_absolute_error\n",
    "print(\"MSE:\", mean_squared_error(y_test, y_pred))\n",
    "print(\"MAE:\", mean_absolute_error(y_test, y_pred))"
   ]
  },
  {
   "cell_type": "code",
   "execution_count": null,
   "id": "7a074ab1",
   "metadata": {},
   "outputs": [],
   "source": []
  }
 ],
 "metadata": {
  "kernelspec": {
   "display_name": "Python 3 (ipykernel)",
   "language": "python",
   "name": "python3"
  },
  "language_info": {
   "codemirror_mode": {
    "name": "ipython",
    "version": 3
   },
   "file_extension": ".py",
   "mimetype": "text/x-python",
   "name": "python",
   "nbconvert_exporter": "python",
   "pygments_lexer": "ipython3",
   "version": "3.9.13"
  }
 },
 "nbformat": 4,
 "nbformat_minor": 5
}
