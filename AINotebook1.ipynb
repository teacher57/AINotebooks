{
 "cells": [
  {
   "cell_type": "code",
   "execution_count": 1,
   "id": "3a94cb7b",
   "metadata": {},
   "outputs": [
    {
     "name": "stdout",
     "output_type": "stream",
     "text": [
      "True <class 'bool'>\n",
      "{8, 1, 3, 7} <class 'set'>\n",
      "{'apple', 2, 4, 5, 10} <class 'set'>\n",
      "set() <class 'set'>\n",
      "('Antonova Antonina', 34, 'j') <class 'tuple'>\n",
      "type <class 'str'>\n",
      "[1, 'title', 2, 'context'] <class 'list'>\n"
     ]
    }
   ],
   "source": [
    "# 1.3\n",
    "x = 5 >= 2\n",
    "A = {1, 3, 7, 8}\n",
    "B = {2, 4, 5, 10, \"apple\"}\n",
    "C = A & B\n",
    "df = 'Antonova Antonina', 34, 'j'\n",
    "z = 'type'\n",
    "D = [1, 'title', 2, 'context']\n",
    "print(x, type(x))\n",
    "print(A, type(A))\n",
    "print(B, type(B))\n",
    "print(C, type(C))\n",
    "print(df, type(df))\n",
    "print(z, type(z))\n",
    "print(D, type(D))"
   ]
  },
  {
   "cell_type": "code",
   "execution_count": 2,
   "id": "0a321537",
   "metadata": {},
   "outputs": [
    {
     "name": "stdout",
     "output_type": "stream",
     "text": [
      "5\n",
      "second interval\n"
     ]
    }
   ],
   "source": [
    "# 2.3\n",
    "x = int(input())\n",
    "if x < -5:\n",
    "    print('first interval')\n",
    "elif x <= 5:\n",
    "    print('second interval')\n",
    "else:\n",
    "    print('third interval')\n"
   ]
  },
  {
   "cell_type": "code",
   "execution_count": 4,
   "id": "f81f019f",
   "metadata": {},
   "outputs": [
    {
     "name": "stdout",
     "output_type": "stream",
     "text": [
      "10\n",
      "7\n",
      "4\n",
      "1\n"
     ]
    }
   ],
   "source": [
    "# 3.3.1 (3.2.1)\n",
    "x = 10\n",
    "while x >= 1:\n",
    "    print(x)\n",
    "    x -= 3"
   ]
  },
  {
   "cell_type": "code",
   "execution_count": 5,
   "id": "5479cbbe",
   "metadata": {},
   "outputs": [
    {
     "name": "stdout",
     "output_type": "stream",
     "text": [
      "['Gregory', 'Gumerov', 181, False, 'IT teacher']\n"
     ]
    }
   ],
   "source": [
    "# 3.3.2\n",
    "name = \"Gregory\"\n",
    "second_name = \"Gumerov\"\n",
    "height = 181\n",
    "engaged = False\n",
    "job = \"IT teacher\"\n",
    "person = [name, second_name, height, engaged, job]\n",
    "print(person)"
   ]
  },
  {
   "cell_type": "code",
   "execution_count": 7,
   "id": "1b301c07",
   "metadata": {},
   "outputs": [
    {
     "name": "stdout",
     "output_type": "stream",
     "text": [
      "[2, 3, 4, 5, 6, 7, 8, 9, 10, 11, 12, 13, 14, 15]\n"
     ]
    }
   ],
   "source": [
    "# 3.3.3\n",
    "l = list(range(2, 16))\n",
    "print(l)"
   ]
  },
  {
   "cell_type": "code",
   "execution_count": 1,
   "id": "af3a24d2",
   "metadata": {},
   "outputs": [
    {
     "name": "stdout",
     "output_type": "stream",
     "text": [
      "[105, 80, 55, 30, 5]\n"
     ]
    }
   ],
   "source": [
    "# 3.3.4\n",
    "print(list(range(105, 4, -25)))"
   ]
  },
  {
   "cell_type": "code",
   "execution_count": 12,
   "id": "da0636e0",
   "metadata": {},
   "outputs": [
    {
     "name": "stdout",
     "output_type": "stream",
     "text": [
      "[0, 1, 2, 3, 4, 5, 6, 7, 8, 9]\n",
      "[8, 1, 6, 3, 4, 5, 2, 7, 0, 9]\n"
     ]
    }
   ],
   "source": [
    "# 3.3.5\n",
    "l = list(range(0, 10))\n",
    "print(l)\n",
    "for i in range(5):\n",
    "    if i % 2 == 0:\n",
    "        l[i], l[8 - i] = l[8 - i], l[i]\n",
    "print(l)\n",
    "        "
   ]
  },
  {
   "cell_type": "code",
   "execution_count": null,
   "id": "1cad53f8",
   "metadata": {},
   "outputs": [],
   "source": []
  }
 ],
 "metadata": {
  "kernelspec": {
   "display_name": "Python 3 (ipykernel)",
   "language": "python",
   "name": "python3"
  },
  "language_info": {
   "codemirror_mode": {
    "name": "ipython",
    "version": 3
   },
   "file_extension": ".py",
   "mimetype": "text/x-python",
   "name": "python",
   "nbconvert_exporter": "python",
   "pygments_lexer": "ipython3",
   "version": "3.9.13"
  }
 },
 "nbformat": 4,
 "nbformat_minor": 5
}
